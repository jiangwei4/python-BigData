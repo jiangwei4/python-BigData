{
 "cells": [
  {
   "cell_type": "code",
   "execution_count": 1,
   "id": "806dc157",
   "metadata": {},
   "outputs": [
    {
     "name": "stdout",
     "output_type": "stream",
     "text": [
      "pygame 2.1.0 (SDL 2.0.16, Python 3.10.0)\n",
      "Hello from the pygame community. https://www.pygame.org/contribute.html\n"
     ]
    }
   ],
   "source": [
    "import pygame\n",
    "from ElementsNavigation.Config import Config\n",
    "from Ingame.Vaisseau import Vaisseau\n",
    "from Ingame.ListBullet import ListBullet\n",
    "import time\n",
    "import abc\n",
    "from tf_agents.environments import py_environment\n",
    "from tf_agents.specs import array_spec\n",
    "from tf_agents.specs import tensor_spec\n",
    "from tf_agents.trajectories import time_step as ts \n",
    "import numpy as np\n",
    "from ElementsNavigation.Config import Config\n",
    "from Ingame.ListEnnemi import ListEnnemi\n",
    "from Extra.Sound import Sound\n",
    "from Extra.Hud import Hud\n",
    "from Ingame.AnimationInvincible import AnimationInvincible\n",
    "from ElementsNavigation.GameOverEnv import GameOverEnv\n",
    "import math\n",
    "\n",
    "\n",
    "from Ingame.ListMeteorite import ListMeteorite\n",
    "from Ingame.Meteorite import Meteorite\n",
    "from Ingame.Bullet import Bullet\n",
    "from Ingame.Ennemi import Ennemi\n",
    "\n",
    "class PyEnvironment(object):\n",
    "\n",
    "    def reset(self):\n",
    "        \"\"\"Return initial_time_step.\"\"\"\n",
    "        self._current_time_step = self._reset()\n",
    "        return self._current_time_step\n",
    "\n",
    "    def step(self, action):\n",
    "        \"\"\"Apply action and return new time_step.\"\"\"\n",
    "        if self._current_time_step is None:\n",
    "            return self.reset()\n",
    "        self._current_time_step = self._step(action)\n",
    "        return self._current_time_step\n",
    "\n",
    "    def current_time_step(self):\n",
    "        return self._current_time_step\n",
    "\n",
    "    def time_step_spec(self):\n",
    "        \"\"\"Return time_step_spec.\"\"\"\n",
    "\n",
    "    @abc.abstractmethod\n",
    "    def observation_spec(self):\n",
    "        \"\"\"Return observation_spec.\"\"\"\n",
    "\n",
    "    @abc.abstractmethod\n",
    "    def action_spec(self):\n",
    "        \"\"\"Return action_spec.\"\"\"\n",
    "\n",
    "    @abc.abstractmethod\n",
    "    def _reset(self):\n",
    "        \"\"\"Return initial_time_step.\"\"\"\n",
    "\n",
    "    @abc.abstractmethod\n",
    "    def _step(self, action):\n",
    "        \"\"\"Apply action and return new time_step.\"\"\"\n",
    "\n",
    "class Environnement(py_environment.PyEnvironment):\n",
    "    def __init__(self) :\n",
    "        self.config = Config()\n",
    "        self._action_spec = array_spec.BoundedArraySpec(shape=(), dtype=np.int32, minimum=0, maximum=5, name='action')\n",
    "        minObser = np.zeros(self.config.surfaceW * self.config.surfaceH)\n",
    "        maxObser = np.ones(self.config.surfaceW * self.config.surfaceH)\n",
    "        self._observation_spec = array_spec.BoundedArraySpec(shape=(self.config.surfaceW * self.config.surfaceH,), dtype=np.int32, minimum=minObser, maximum=maxObser, name='observation')\n",
    "        self._episode_ended = False\n",
    "        #self.listBullet = ListBullet(self.config)\n",
    "        self.WINDOW          = pygame.display.set_mode((1920, 1080), flags=pygame.HIDDEN)\n",
    "        self._reset()\n",
    "        self.WINDOW  = None\n",
    "        self.game_over      = False\n",
    "        self.imgMeteorite = self.loadImg(self.MeteoriteInit.getImg())\n",
    "        self.imgBullet = [self.loadImg(self.BulletInit.getImgType(0)),self.loadImg(self.BulletInit.getImgType(1))]\n",
    "        self.imgFond = self.loadImg(\"images/fond.png\")\n",
    "        self.WINDOW          = pygame.display.set_mode((1920, 1080), flags=pygame.HIDDEN)\n",
    "        \n",
    "        \n",
    "\n",
    "        \n",
    "        self.imgVaisseau = []\n",
    "        self.imgEnnemi = []\n",
    "        for i in range(8):\n",
    "            imgV = self.loadImg(self.vaisseauInit.getImgDirection(i))\n",
    "            imgE = self.loadImg(self.EnnemiInit.getImgDirection(i))\n",
    "            self.imgVaisseau.append(imgV)\n",
    "            self.imgEnnemi.append(imgE)\n",
    "        #self.listEnnemi = ListEnnemi(self.config,self.listBullet, self.vaisseau,self.listBullet,jeu,self.sound)\n",
    "        #self.listMeteorite = ListMeteorite(self.config,self.listBullet,self.listEnnemi,self.sound,jeu,self.vaisseau)\n",
    "\n",
    "    def loadImg(self,name):\n",
    "        return pygame.image.load(name)  \n",
    "\n",
    "    def render(self):\n",
    "        WINDOW = pygame.display.set_mode((self.config.surfaceH, self.config.surfaceW))\n",
    "        self.Vaisseau.update()\n",
    "\n",
    "    def action_spec(self):\n",
    "        return self._action_spec\n",
    "\n",
    "    def observation_spec(self):\n",
    "        return self._observation_spec\n",
    "\n",
    "    def parcour_ecran(self):\n",
    "        tab = []\n",
    "       # for h in range(self.config.surfaceH):\n",
    "       #     for w in range(self.config.surfaceW):\n",
    "       #         if(w >= self.Vaisseau.x and h <= self.Vaisseau.larg and h >= self.Vaisseau.y and h <= self.Vaisseau.haut):\n",
    "       #             tab.append(1)\n",
    "       #             print(\"oui\")\n",
    "       #         else:\n",
    "       #             tab.append(0)\n",
    "       #             print([h,w])\n",
    "        return tab\n",
    "\n",
    "    def update(self):\n",
    "        pygame.display.update()\n",
    "        \n",
    "    def _reset(self):\n",
    "        self._episode_ended = False\n",
    "        self.game_over      = False\n",
    "        self.listBullet = ListBullet(self.config)\n",
    "        self.Vaisseau = Vaisseau(self.config,self.listBullet)\n",
    "        self.listEnnemi = ListEnnemi(self.config,self.listBullet, self.Vaisseau,self.listBullet,self.WINDOW,None)\n",
    "        self.listMeteorite = ListMeteorite(self.config,self.listBullet,self.listEnnemi,None,self.WINDOW,self.Vaisseau)\n",
    "        \n",
    "        self.vaisseauInit = Vaisseau(self.config,[])\n",
    "        self.BulletInit = Bullet(self.config)\n",
    "        self.EnnemiInit = Ennemi(self.config,[])\n",
    "        self.MeteoriteInit = Meteorite(self.config)\n",
    "        self._state = self.parcour_ecran()\n",
    "        return ts.restart(np.array(self._state, dtype=np.int32))\n",
    "    \n",
    "    def close(self):\n",
    "        pygame.quit()\n",
    "\n",
    "    def position(self,img,x,y):\n",
    "        self.WINDOW.blit(img,(x,y))\n",
    "\n",
    "    def print_screen(self):\n",
    "        print(\"++++\")\n",
    "        print(self.listBullet.getListB())\n",
    "        print(\"----\")\n",
    "        #self.position(self.imgFond,0,0)\n",
    "        pygame.display.update()\n",
    "        return pygame.surfarray.pixels3d(self.WINDOW)/255.\n",
    "\n",
    "    def _step(self,action):\n",
    "        self.WINDOW.fill((255,255,255))\n",
    "        reward = 0\n",
    "        xa_mvt = 0\n",
    "        ya_mvt = 0\n",
    "        xb_mvt = 0\n",
    "        yb_mvt = 0\n",
    "        da=0\n",
    "        db=0\n",
    "        dc=0\n",
    "        dd=0\n",
    "        tir = False\n",
    "        if self._episode_ended:\n",
    "            # The last action ended the episode. Ignore the current action and start\n",
    "            # a new episode.\n",
    "            return self.reset()\n",
    "\n",
    "        if action == 1:\n",
    "            ya_mvt = -self.Vaisseau.getMouvementSpeed()\n",
    "            da = 1\n",
    "\n",
    "        if action == 2:\n",
    "            yb_mvt = self.Vaisseau.getMouvementSpeed()\n",
    "            db = 1\n",
    "            \n",
    "\n",
    "        if action == 3:\n",
    "            xa_mvt = -self.Vaisseau.getMouvementSpeed()\n",
    "            dc = 1\n",
    "            \n",
    "\n",
    "        if action == 4:\n",
    "            xb_mvt = self.Vaisseau.getMouvementSpeed()\n",
    "            dd = 1\n",
    "            \n",
    "\n",
    "        if action == 0:\n",
    "            tir = True\n",
    "\n",
    "        self.Vaisseau.setDirection(da,db,dc,dd)\n",
    "            \n",
    "        if((xa_mvt+xb_mvt) != 0 and (ya_mvt+yb_mvt) !=0):\n",
    "            self.Vaisseau.setx((xa_mvt+xb_mvt)*math.sqrt(0.5))\n",
    "            self.Vaisseau.sety((ya_mvt+yb_mvt)*math.sqrt(0.5))\n",
    "        else:\n",
    "            self.Vaisseau.setx(xa_mvt+xb_mvt)\n",
    "            self.Vaisseau.sety(ya_mvt+yb_mvt)\n",
    "        self.Vaisseau.update()\n",
    "        \n",
    "        if tir:\n",
    "            self.Vaisseau.tirer()\n",
    "            tir = False\n",
    "        \n",
    "        self.listBullet.update()\n",
    "        for elem in self.listBullet.getListB():\n",
    "            self.position(self.imgBullet[elem.getType()],self.listBullet.getxElemListB(elem),self.listBullet.getyElemListB(elem)) \n",
    "        \n",
    "        ###### ajout un enemey\n",
    "        self.listEnnemi.addElemListE()\n",
    "\n",
    "        self.listBullet = self.listEnnemi.update()\n",
    "        for elem in self.listEnnemi.getListE():\n",
    "            self.position(self.imgEnnemi[elem.getDirection()],self.listEnnemi.getxElemListE(elem),self.listEnnemi.getyElemListE(elem))\n",
    "            #self.position(self.loadImg(self.listEnnemi.getImgElemListE(elem)),self.listEnnemi.getxElemListE(elem),self.listEnnemi.getyElemListE(elem)) \n",
    "\n",
    "        #######\n",
    "\n",
    "        ###### ajout une meteorite\n",
    "        self.listMeteorite.addElemListM()\n",
    "\n",
    "        self.listMeteorite.update()\n",
    "        for elem in self.listMeteorite.getListM():\n",
    "            self.position(self.imgMeteorite,self.listMeteorite.getxElemListM(elem),self.listMeteorite.getyElemListM(elem)) \n",
    "\n",
    "        #######\n",
    "        \n",
    "        \n",
    "        self.position(self.imgVaisseau[self.Vaisseau.getDirection()],self.Vaisseau.getx(),self.Vaisseau.gety())\n",
    "        self.update()\n",
    "        self._state = self.parcour_ecran()\n",
    "        return ts.transition(np.array(self._state, dtype=np.int32), reward=0.0, discount=1.0)\n",
    "    "
   ]
  },
  {
   "cell_type": "code",
   "execution_count": 2,
   "id": "6e911700",
   "metadata": {},
   "outputs": [],
   "source": [
    "ennv = Environnement()"
   ]
  },
  {
   "cell_type": "code",
   "execution_count": 3,
   "id": "71558ec1",
   "metadata": {},
   "outputs": [
    {
     "data": {
      "text/plain": [
       "1920"
      ]
     },
     "execution_count": 3,
     "metadata": {},
     "output_type": "execute_result"
    }
   ],
   "source": [
    "ennv.config.getSurfaceW()"
   ]
  },
  {
   "cell_type": "code",
   "execution_count": 4,
   "id": "5672a938",
   "metadata": {},
   "outputs": [
    {
     "name": "stdout",
     "output_type": "stream",
     "text": [
      "++++\n",
      "[]\n",
      "----\n",
      "[[[0. 0. 0.]\n",
      "  [0. 0. 0.]\n",
      "  [0. 0. 0.]\n",
      "  ...\n",
      "  [0. 0. 0.]\n",
      "  [0. 0. 0.]\n",
      "  [0. 0. 0.]]\n",
      "\n",
      " [[0. 0. 0.]\n",
      "  [0. 0. 0.]\n",
      "  [0. 0. 0.]\n",
      "  ...\n",
      "  [0. 0. 0.]\n",
      "  [0. 0. 0.]\n",
      "  [0. 0. 0.]]\n",
      "\n",
      " [[0. 0. 0.]\n",
      "  [0. 0. 0.]\n",
      "  [0. 0. 0.]\n",
      "  ...\n",
      "  [0. 0. 0.]\n",
      "  [0. 0. 0.]\n",
      "  [0. 0. 0.]]\n",
      "\n",
      " ...\n",
      "\n",
      " [[0. 0. 0.]\n",
      "  [0. 0. 0.]\n",
      "  [0. 0. 0.]\n",
      "  ...\n",
      "  [0. 0. 0.]\n",
      "  [0. 0. 0.]\n",
      "  [0. 0. 0.]]\n",
      "\n",
      " [[0. 0. 0.]\n",
      "  [0. 0. 0.]\n",
      "  [0. 0. 0.]\n",
      "  ...\n",
      "  [0. 0. 0.]\n",
      "  [0. 0. 0.]\n",
      "  [0. 0. 0.]]\n",
      "\n",
      " [[0. 0. 0.]\n",
      "  [0. 0. 0.]\n",
      "  [0. 0. 0.]\n",
      "  ...\n",
      "  [0. 0. 0.]\n",
      "  [0. 0. 0.]\n",
      "  [0. 0. 0.]]]\n",
      "++++\n",
      "[]\n",
      "----\n"
     ]
    },
    {
     "data": {
      "text/plain": [
       "<matplotlib.image.AxesImage at 0x1a2774ce860>"
      ]
     },
     "execution_count": 4,
     "metadata": {},
     "output_type": "execute_result"
    },
    {
     "data": {
      "image/png": "[encoded data removed]",
      "text/plain": [
       "<Figure size 432x288 with 1 Axes>"
      ]
     },
     "metadata": {
      "needs_background": "light"
     },
     "output_type": "display_data"
    }
   ],
   "source": [
    "#env = Environnement()\n",
    "#env.reset()\n",
    "#print(env)\n",
    "#env.step(0)\n",
    "#env.render()\n",
    "#env.close()\n",
    "\n",
    "import tf_agents.environments as tt\n",
    "env = Environnement()\n",
    "#tt.validate_py_environment(env, episodes=5)\n",
    "#print(env.reset())\n",
    "print(env.print_screen())\n",
    "                \n",
    "import matplotlib.pyplot as plt    \n",
    "plt.imshow(env.print_screen())"
   ]
  },
  {
   "cell_type": "code",
   "execution_count": 5,
   "id": "2b02903d",
   "metadata": {},
   "outputs": [
    {
     "name": "stdout",
     "output_type": "stream",
     "text": [
      "[<Ingame.Bullet.Bullet object at 0x000001A2774CFB50>]\n",
      "++++\n",
      "[]\n",
      "----\n"
     ]
    },
    {
     "data": {
      "image/png": "[encoded data removed]",
      "text/plain": [
       "<Figure size 432x288 with 1 Axes>"
      ]
     },
     "metadata": {
      "needs_background": "light"
     },
     "output_type": "display_data"
    },
    {
     "name": "stdout",
     "output_type": "stream",
     "text": [
      "[<Ingame.Bullet.Bullet object at 0x000001A2774CFB50>]\n",
      "++++\n",
      "[]\n",
      "----\n"
     ]
    },
    {
     "data": {
      "image/png": "[encoded data removed]",
      "text/plain": [
       "<Figure size 432x288 with 1 Axes>"
      ]
     },
     "metadata": {
      "needs_background": "light"
     },
     "output_type": "display_data"
    },
    {
     "name": "stdout",
     "output_type": "stream",
     "text": [
      "[<Ingame.Bullet.Bullet object at 0x000001A2774CFB50>]\n",
      "++++\n",
      "[]\n",
      "----\n"
     ]
    },
    {
     "data": {
      "image/png": "[encoded data removed]",
      "text/plain": [
       "<Figure size 432x288 with 1 Axes>"
      ]
     },
     "metadata": {
      "needs_background": "light"
     },
     "output_type": "display_data"
    },
    {
     "name": "stdout",
     "output_type": "stream",
     "text": [
      "[<Ingame.Bullet.Bullet object at 0x000001A2774CFB50>]\n",
      "++++\n",
      "[]\n",
      "----\n"
     ]
    },
    {
     "data": {
      "image/png": "[encoded data removed]",
      "text/plain": [
       "<Figure size 432x288 with 1 Axes>"
      ]
     },
     "metadata": {
      "needs_background": "light"
     },
     "output_type": "display_data"
    },
    {
     "name": "stdout",
     "output_type": "stream",
     "text": [
      "[<Ingame.Bullet.Bullet object at 0x000001A2774CFB50>, <Ingame.Bullet.Bullet object at 0x000001A205056080>]\n",
      "++++\n",
      "[]\n",
      "----\n"
     ]
    },
    {
     "data": {
      "image/png": "[encoded data removed]",
      "text/plain": [
       "<Figure size 432x288 with 1 Axes>"
      ]
     },
     "metadata": {
      "needs_background": "light"
     },
     "output_type": "display_data"
    },
    {
     "name": "stdout",
     "output_type": "stream",
     "text": [
      "[<Ingame.Bullet.Bullet object at 0x000001A2774CFB50>, <Ingame.Bullet.Bullet object at 0x000001A205056080>]\n",
      "++++\n",
      "[]\n",
      "----\n"
     ]
    },
    {
     "data": {
      "image/png": "[encoded data removed]",
      "text/plain": [
       "<Figure size 432x288 with 1 Axes>"
      ]
     },
     "metadata": {
      "needs_background": "light"
     },
     "output_type": "display_data"
    },
    {
     "name": "stdout",
     "output_type": "stream",
     "text": [
      "[<Ingame.Bullet.Bullet object at 0x000001A2774CFB50>, <Ingame.Bullet.Bullet object at 0x000001A205056080>]\n",
      "++++\n",
      "[]\n",
      "----\n"
     ]
    },
    {
     "data": {
      "image/png": "[encoded data removed]",
      "text/plain": [
       "<Figure size 432x288 with 1 Axes>"
      ]
     },
     "metadata": {
      "needs_background": "light"
     },
     "output_type": "display_data"
    },
    {
     "name": "stdout",
     "output_type": "stream",
     "text": [
      "[<Ingame.Bullet.Bullet object at 0x000001A2774CFB50>, <Ingame.Bullet.Bullet object at 0x000001A205056080>]\n",
      "++++\n",
      "[]\n",
      "----\n"
     ]
    },
    {
     "data": {
      "image/png": "[encoded data removed]",
      "text/plain": [
       "<Figure size 432x288 with 1 Axes>"
      ]
     },
     "metadata": {
      "needs_background": "light"
     },
     "output_type": "display_data"
    },
    {
     "name": "stdout",
     "output_type": "stream",
     "text": [
      "[<Ingame.Bullet.Bullet object at 0x000001A2774CFB50>, <Ingame.Bullet.Bullet object at 0x000001A205056080>, <Ingame.Bullet.Bullet object at 0x000001A205144610>]\n",
      "++++\n",
      "[]\n",
      "----\n"
     ]
    },
    {
     "data": {
      "image/png": "[encoded data removed]",
      "text/plain": [
       "<Figure size 432x288 with 1 Axes>"
      ]
     },
     "metadata": {
      "needs_background": "light"
     },
     "output_type": "display_data"
    },
    {
     "name": "stdout",
     "output_type": "stream",
     "text": [
      "[<Ingame.Bullet.Bullet object at 0x000001A2774CFB50>, <Ingame.Bullet.Bullet object at 0x000001A205056080>, <Ingame.Bullet.Bullet object at 0x000001A205144610>]\n",
      "++++\n",
      "[]\n",
      "----\n"
     ]
    },
    {
     "data": {
      "image/png": "[encoded data removed]",
      "text/plain": [
       "<Figure size 432x288 with 1 Axes>"
      ]
     },
     "metadata": {
      "needs_background": "light"
     },
     "output_type": "display_data"
    }
   ],
   "source": [
    "environment = Environnement()\n",
    "action = 5\n",
    "time_step = environment.reset()\n",
    "#while not time_step.is_last():\n",
    "for i in range(10):\n",
    "    time_step = environment.step(action)\n",
    "    plt.imshow(env.print_screen())\n",
    "    plt.show()"
   ]
  },
  {
   "cell_type": "code",
   "execution_count": 6,
   "id": "a8ae5c3b",
   "metadata": {},
   "outputs": [],
   "source": [
    "import PIL "
   ]
  },
  {
   "cell_type": "code",
   "execution_count": 7,
   "id": "4b266368",
   "metadata": {},
   "outputs": [
    {
     "name": "stdout",
     "output_type": "stream",
     "text": [
      "++++\n",
      "[]\n",
      "----\n"
     ]
    }
   ],
   "source": [
    "import matplotlib\n",
    "\n",
    "matplotlib.image.imsave('name.png', env.print_screen())"
   ]
  },
  {
   "cell_type": "code",
   "execution_count": null,
   "id": "e4bb8577",
   "metadata": {},
   "outputs": [],
   "source": []
  },
  {
   "cell_type": "code",
   "execution_count": null,
   "id": "1cf5647f",
   "metadata": {},
   "outputs": [],
   "source": []
  }
 ],
 "metadata": {
  "kernelspec": {
   "display_name": "Python 3 (ipykernel)",
   "language": "python",
   "name": "python3"
  },
  "language_info": {
   "codemirror_mode": {
    "name": "ipython",
    "version": 3
   },
   "file_extension": ".py",
   "mimetype": "text/x-python",
   "name": "python",
   "nbconvert_exporter": "python",
   "pygments_lexer": "ipython3",
   "version": "3.10.0"
  }
 },
 "nbformat": 4,
 "nbformat_minor": 5
}
